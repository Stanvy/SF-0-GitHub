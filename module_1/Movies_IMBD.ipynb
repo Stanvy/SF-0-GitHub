{
 "cells": [
  {
   "cell_type": "code",
   "execution_count": null,
   "metadata": {
    "_cell_guid": "b1076dfc-b9ad-4769-8c92-a6c4dae69d19",
    "_uuid": "8f2839f25d086af736a60e9eeb907d3b93b6e0e5",
    "colab": {},
    "colab_type": "code",
    "id": "U2D2gTdJVp90"
   },
   "outputs": [],
   "source": [
    "#Кроме Pandas, не вижу смысла в остальных библиотеках\n",
    "# import numpy as np\n",
    "import pandas as pd\n",
    "# import seaborn as sns\n",
    "# import matplotlib.pyplot as plt\n",
    "# from collections import Counter"
   ]
  },
  {
   "cell_type": "code",
   "execution_count": null,
   "metadata": {
    "_cell_guid": "79c7e3d0-c299-4dcb-8224-4455121ee9b0",
    "_uuid": "d629ff2d2480ee46fbb7e2d37f6b5fab8052498a",
    "colab": {},
    "colab_type": "code",
    "id": "oyGfxL3eVp9-"
   },
   "outputs": [],
   "source": [
    "data = pd.read_csv('movie_bd_v5.csv')\n",
    "data.sample(5)"
   ]
  },
  {
   "cell_type": "code",
   "execution_count": null,
   "metadata": {
    "colab": {},
    "colab_type": "code",
    "id": "CoYUnagMVp-C"
   },
   "outputs": [],
   "source": [
    "data.describe()"
   ]
  },
  {
   "cell_type": "markdown",
   "metadata": {
    "colab_type": "text",
    "id": "DTIt7ezGVp-G"
   },
   "source": [
    "# Предобработка"
   ]
  },
  {
   "cell_type": "code",
   "execution_count": null,
   "metadata": {
    "colab": {},
    "colab_type": "code",
    "id": "jNb40DwKVp-H"
   },
   "outputs": [],
   "source": [
    "answers = {} # создадим словарь для ответов\n",
    "\n",
    "# тут другие ваши предобработки колонок например:\n",
    "\n",
    "#the time given in the dataset is in string format.\n",
    "#So we need to change this in datetime format\n",
    "# ...\n",
    "\n",
    "\n",
    "month_names = {\n",
    "    1: 'Январь',\n",
    "    2: 'Февраль',\n",
    "    3: 'Март',\n",
    "    4: 'Апрель',\n",
    "    5: 'Май',\n",
    "    6: 'Июнь',\n",
    "    7: 'Июль',\n",
    "    8: 'Август',\n",
    "    9: 'Сентябрь',\n",
    "    10: 'Октябрь',\n",
    "    11: 'Ноябрь',\n",
    "    12: 'Декабрь'\n",
    "}\n",
    "\n",
    "\n",
    "def count_words(text, delimiters):\n",
    "    words_count = 0\n",
    "    previous_delimiter = True\n",
    "    for symbol in text:\n",
    "        current_delimiter = symbol in delimiters\n",
    "        if previous_delimiter and not current_delimiter:\n",
    "            words_count += 1\n",
    "        previous_delimiter = current_delimiter\n",
    "    return words_count\n",
    "\n",
    "\n",
    "data['title'] = data['original_title'] + ' (' + data['imdb_id'] + ')'\n",
    "data['profit'] = data['revenue'] - data['budget']\n",
    "data['release_month'] = data['release_date'].apply(lambda month: int(month[:month.find('/')]))\n",
    "data['title_length'] = data['original_title'].str.len()\n",
    "data['overview_count'] = data['overview'].apply(count_words, delimiters=' ,.!?')"
   ]
  },
  {
   "cell_type": "markdown",
   "metadata": {
    "colab_type": "text",
    "id": "YxZaH-nPVp-L"
   },
   "source": [
    "# 1. У какого фильма из списка самый большой бюджет?"
   ]
  },
  {
   "cell_type": "markdown",
   "metadata": {
    "colab_type": "text",
    "id": "Nd-G5gX6Vp-M"
   },
   "source": [
    "Использовать варианты ответов в коде решения запрещено.    \n",
    "Вы думаете и в жизни у вас будут варианты ответов?)"
   ]
  },
  {
   "cell_type": "code",
   "execution_count": null,
   "metadata": {
    "colab": {},
    "colab_type": "code",
    "id": "uVnXAY5RVp-O"
   },
   "outputs": [],
   "source": [
    "# в словарь вставляем номер вопроса и ваш ответ на него\n",
    "# Пример: \n",
    "answers['1'] = '2. Spider-Man 3 (tt0413300)'\n",
    "# запишите свой вариант ответа\n",
    "answers['1'] = '...'\n",
    "# если ответили верно, можете добавить комментарий со значком \"+\""
   ]
  },
  {
   "cell_type": "code",
   "execution_count": null,
   "metadata": {
    "colab": {},
    "colab_type": "code",
    "id": "dZwb3m28Vp-S"
   },
   "outputs": [],
   "source": [
    "# тут пишем ваш код для решения данного вопроса:\n",
    "#Объединение значений производится на случай наличия нескольких элементов удовлетворяющих условию, либо их отсутствия\n",
    "answers['1'] = data[data['budget'] == data['budget'].max()]['title'].str.cat(sep='\\n')"
   ]
  },
  {
   "cell_type": "markdown",
   "metadata": {
    "colab_type": "text",
    "id": "K7L3nbRXVp-X"
   },
   "source": [
    "ВАРИАНТ 2"
   ]
  },
  {
   "cell_type": "code",
   "execution_count": null,
   "metadata": {
    "colab": {},
    "colab_type": "code",
    "id": "OGaoQI7rVp-X"
   },
   "outputs": [],
   "source": [
    "# можно добавлять разные варианты решения\n",
    "#Здесь и далее все альтернативные варианты целенаправленно закомментированы (в основном, по причине их меньшей производительности)\n",
    "# movies = data[data['budget'] == data['budget'].max()]['title']\n",
    "# if movies.empty == False:\n",
    "#     answers['1'] = movies.values[0]\n",
    "# else:\n",
    "#     answers['1'] = ''"
   ]
  },
  {
   "cell_type": "code",
   "execution_count": null,
   "metadata": {},
   "outputs": [],
   "source": [
    "# movies = data[data['budget'] == data['budget'].max()]['title']\n",
    "# if movies.shape[0] > 0:\n",
    "#     answers['1'] = movies.array[0]\n",
    "# else:\n",
    "#     answers['1'] = ''"
   ]
  },
  {
   "cell_type": "markdown",
   "metadata": {
    "colab_type": "text",
    "id": "FNRbbI3vVp-c"
   },
   "source": [
    "# 2. Какой из фильмов самый длительный (в минутах)?"
   ]
  },
  {
   "cell_type": "code",
   "execution_count": null,
   "metadata": {
    "colab": {},
    "colab_type": "code",
    "id": "vHAoEXNTVp-d"
   },
   "outputs": [],
   "source": [
    "# думаю логику работы с этим словарем вы уже поняли, \n",
    "# по этому не буду больше его дублировать\n",
    "answers['2'] = data[data['runtime'] == data['runtime'].max()]['title'].str.cat(sep='\\n')"
   ]
  },
  {
   "cell_type": "markdown",
   "metadata": {
    "colab_type": "text",
    "id": "bapLlpW8Vp-k"
   },
   "source": [
    "# 3. Какой из фильмов самый короткий (в минутах)?\n",
    "\n",
    "\n",
    "\n"
   ]
  },
  {
   "cell_type": "code",
   "execution_count": null,
   "metadata": {
    "colab": {},
    "colab_type": "code",
    "id": "YBxaSHuAVp-l"
   },
   "outputs": [],
   "source": [
    "answers['3'] = data[data['runtime'] == data['runtime'].min()]['title'].str.cat(sep='\\n')"
   ]
  },
  {
   "cell_type": "markdown",
   "metadata": {
    "colab_type": "text",
    "id": "TfQbxbfNVp-p"
   },
   "source": [
    "# 4. Какова средняя длительность фильмов?\n"
   ]
  },
  {
   "cell_type": "code",
   "execution_count": null,
   "metadata": {
    "colab": {},
    "colab_type": "code",
    "id": "5K6dKZYVVp-q"
   },
   "outputs": [],
   "source": [
    "answers['4'] = round(data['runtime'].mean())"
   ]
  },
  {
   "cell_type": "markdown",
   "metadata": {
    "colab_type": "text",
    "id": "r5TvbnT_Vp-u"
   },
   "source": [
    "# 5. Каково медианное значение длительности фильмов? "
   ]
  },
  {
   "cell_type": "code",
   "execution_count": null,
   "metadata": {
    "colab": {},
    "colab_type": "code",
    "id": "iBROplKnVp-v"
   },
   "outputs": [],
   "source": [
    "answers['5'] = round(data['runtime'].median())"
   ]
  },
  {
   "cell_type": "markdown",
   "metadata": {
    "colab_type": "text",
    "id": "39P-deDSVp-y"
   },
   "source": [
    "# 6. Какой самый прибыльный фильм?\n",
    "#### Внимание! Здесь и далее под «прибылью» или «убытками» понимается разность между сборами и бюджетом фильма. (прибыль = сборы - бюджет) в нашем датасете это будет (profit = revenue - budget) "
   ]
  },
  {
   "cell_type": "code",
   "execution_count": null,
   "metadata": {
    "colab": {},
    "colab_type": "code",
    "id": "UYZh4T9WVp-y"
   },
   "outputs": [],
   "source": [
    "# лучше код получения столбца profit вынести в Предобработку что в начале"
   ]
  },
  {
   "cell_type": "code",
   "execution_count": null,
   "metadata": {},
   "outputs": [],
   "source": [
    "answers['6'] = data[data['profit'] == data['profit'].max()]['title'].str.cat(sep='\\n')"
   ]
  },
  {
   "cell_type": "markdown",
   "metadata": {
    "colab_type": "text",
    "id": "M99JmIX4Vp-2"
   },
   "source": [
    "# 7. Какой фильм самый убыточный? "
   ]
  },
  {
   "cell_type": "code",
   "execution_count": null,
   "metadata": {
    "colab": {},
    "colab_type": "code",
    "id": "w-D2m4XPVp-3"
   },
   "outputs": [],
   "source": [
    "answers['7'] = data[data['profit'] == data['profit'].min()]['title'].str.cat(sep='\\n')"
   ]
  },
  {
   "cell_type": "markdown",
   "metadata": {
    "colab_type": "text",
    "id": "wEOM5ERVVp-6"
   },
   "source": [
    "# 8. У скольких фильмов из датасета объем сборов оказался выше бюджета?"
   ]
  },
  {
   "cell_type": "code",
   "execution_count": null,
   "metadata": {
    "colab": {},
    "colab_type": "code",
    "id": "y00_7HD6Vp-7"
   },
   "outputs": [],
   "source": [
    "answers['8'] = data[data['profit'] > 0].shape[0]"
   ]
  },
  {
   "cell_type": "markdown",
   "metadata": {
    "colab_type": "text",
    "id": "xhpspA9KVp_A"
   },
   "source": [
    "# 9. Какой фильм оказался самым кассовым в 2008 году?"
   ]
  },
  {
   "cell_type": "code",
   "execution_count": null,
   "metadata": {
    "colab": {},
    "colab_type": "code",
    "id": "MoUyQr9RVp_B"
   },
   "outputs": [],
   "source": [
    "movies = data[data['release_year'] == 2008]\n",
    "answers['9'] = movies[movies['profit'] == movies['profit'].max()]['title'].str.cat(sep='\\n')"
   ]
  },
  {
   "cell_type": "code",
   "execution_count": null,
   "metadata": {},
   "outputs": [],
   "source": [
    "#Более медленный вариант, но требующий меньше памяти\n",
    "# max_profit = data[data['release_year'] == 2008]['profit'].max()\n",
    "# answers['9'] = data[(data['release_year'] == 2008) & (data['profit'] == max_profit)]['title'].str.cat(sep='\\n')"
   ]
  },
  {
   "cell_type": "code",
   "execution_count": null,
   "metadata": {},
   "outputs": [],
   "source": [
    "#Самый медленный вариант\n",
    "# answers['9'] = data.query('release_year == 2008').query('profit == profit.max()')['title'].str.cat(sep='\\n')"
   ]
  },
  {
   "cell_type": "markdown",
   "metadata": {
    "colab_type": "text",
    "id": "Zi4hDKidVp_F"
   },
   "source": [
    "# 10. Самый убыточный фильм за период с 2012 по 2014 г. (включительно)?\n"
   ]
  },
  {
   "cell_type": "code",
   "execution_count": null,
   "metadata": {
    "colab": {},
    "colab_type": "code",
    "id": "XqyRmufJVp_F"
   },
   "outputs": [],
   "source": [
    "movies = data[data['release_year'].between(2012, 2014)]\n",
    "answers['10'] = movies[movies['profit'] == movies['profit'].min()]['title'].str.cat(sep='\\n')"
   ]
  },
  {
   "cell_type": "code",
   "execution_count": null,
   "metadata": {},
   "outputs": [],
   "source": [
    "# movies = data[(data['release_year'] >= 2012) & (data['release_year'] <= 2014)]\n",
    "# answers['10'] = movies[movies['profit'] == movies['profit'].min()]['title'].str.cat(sep='\\n')"
   ]
  },
  {
   "cell_type": "code",
   "execution_count": null,
   "metadata": {},
   "outputs": [],
   "source": [
    "# answers['10'] = data.query('2012 <= release_year <= 2014').query('profit == profit.min()')['title'].str.cat(sep='\\n')"
   ]
  },
  {
   "cell_type": "markdown",
   "metadata": {
    "colab_type": "text",
    "id": "EA7Sa9dkVp_I"
   },
   "source": [
    "# 11. Какого жанра фильмов больше всего?"
   ]
  },
  {
   "cell_type": "code",
   "execution_count": null,
   "metadata": {
    "colab": {},
    "colab_type": "code",
    "id": "zsJAwJ8QVp_J"
   },
   "outputs": [],
   "source": [
    "# эту задачу тоже можно решать разными подходами, попробуй реализовать разные варианты\n",
    "# если будешь добавлять функцию - выноси ее в предобработку что в начале\n",
    "genres_count = {}\n",
    "for genres in data['genres']:\n",
    "    for genre in genres.split('|'):\n",
    "        genres_count.setdefault(genre, 0)\n",
    "        genres_count[genre] += 1\n",
    "\n",
    "max_count = 0\n",
    "max_genres = []\n",
    "for genre, count in genres_count.items():\n",
    "    if count > max_count:\n",
    "        max_count = count\n",
    "        max_genres = [genre]\n",
    "    elif count == max_count:\n",
    "        max_genres.append(genre)\n",
    "\n",
    "answers['11'] = '\\n'.join(max_genres)"
   ]
  },
  {
   "cell_type": "markdown",
   "metadata": {
    "colab_type": "text",
    "id": "Ax6g2C8SVp_M"
   },
   "source": [
    "ВАРИАНТ 2"
   ]
  },
  {
   "cell_type": "code",
   "execution_count": null,
   "metadata": {},
   "outputs": [],
   "source": [
    "#Вариант с одним циклом, немного уступающий по скорости предыдущему\n",
    "# genres_count = {}\n",
    "# max_count = 0\n",
    "# max_genres = []\n",
    "\n",
    "# for genres in data['genres']:\n",
    "#     for genre in genres.split('|'):\n",
    "\n",
    "#         if genre in genres_count:\n",
    "#             current_count = genres_count[genre] + 1\n",
    "#         else:\n",
    "#             current_count = 1\n",
    "#         genres_count[genre] = current_count\n",
    "\n",
    "#         if current_count > max_count:\n",
    "#             max_count = current_count\n",
    "#             max_genres = [genre]\n",
    "#         elif current_count == max_count:\n",
    "#             max_genres.append(genre)\n",
    "\n",
    "# answers['11'] = '\\n'.join(max_genres)"
   ]
  },
  {
   "cell_type": "code",
   "execution_count": null,
   "metadata": {},
   "outputs": [],
   "source": [
    "#Более медленный вариант\n",
    "# genres_count = data['genres'].str.split('|').explode().value_counts()\n",
    "# if genres_count.empty == False:\n",
    "#     max_count = genres_count[0]\n",
    "#     answers['11'] = genres_count[genres_count == max_count].index.str.cat(sep='\\n')\n",
    "# else:\n",
    "#     answers['11'] = ''"
   ]
  },
  {
   "cell_type": "code",
   "execution_count": null,
   "metadata": {},
   "outputs": [],
   "source": [
    "#То же самое, но без учёта возможности отсутствия элементов или наличия нескольких\n",
    "# answers['11'] = data['genres'].str.split('|').explode().value_counts().index[0]"
   ]
  },
  {
   "cell_type": "code",
   "execution_count": null,
   "metadata": {
    "colab": {},
    "colab_type": "code",
    "id": "otO3SbrSVp_N"
   },
   "outputs": [],
   "source": [
    "#Ооочень медленный вариант\n",
    "# answers['11'] = pd.Series(data['genres'].str.split('|').sum()).value_counts().index[0]"
   ]
  },
  {
   "cell_type": "markdown",
   "metadata": {
    "colab_type": "text",
    "id": "T9_bPWpkVp_Q"
   },
   "source": [
    "# 12. Фильмы какого жанра чаще всего становятся прибыльными? "
   ]
  },
  {
   "cell_type": "code",
   "execution_count": null,
   "metadata": {
    "colab": {},
    "colab_type": "code",
    "id": "Tmt8MaK1Vp_R"
   },
   "outputs": [],
   "source": [
    "answers['12'] = data[data['profit'] > 0]['genres'].str.split('|').explode().value_counts().index[0]"
   ]
  },
  {
   "cell_type": "markdown",
   "metadata": {
    "colab_type": "text",
    "id": "0F23bgsDVp_U"
   },
   "source": [
    "# 13. У какого режиссера самые большие суммарные кассовые сбооры?"
   ]
  },
  {
   "cell_type": "code",
   "execution_count": null,
   "metadata": {},
   "outputs": [],
   "source": [
    "movies = pd.concat([data['revenue'], data['director'].str.split('|')], axis=1).explode('director')\n",
    "movies = movies.groupby('director', sort=False)['revenue'].sum()\n",
    "answers['13'] = movies[movies == movies.max()].index.str.cat(sep='\\n')"
   ]
  },
  {
   "cell_type": "code",
   "execution_count": null,
   "metadata": {
    "colab": {},
    "colab_type": "code",
    "id": "K6Z3J8ygVp_X"
   },
   "outputs": [],
   "source": [
    "#Более медленный вариант через сводную таблицу\n",
    "# movies = pd.concat([data['revenue'], data['director'].str.split('|')], axis=1).explode('director')\n",
    "# movies = movies.pivot_table(index='director', values='revenue', aggfunc='sum')['revenue']\n",
    "# answers['13'] = movies[movies == movies.max()].index.str.cat(sep='\\n')"
   ]
  },
  {
   "cell_type": "code",
   "execution_count": null,
   "metadata": {},
   "outputs": [],
   "source": [
    "#Вариант без учёта возможности одинакового значения для нескольких элементов\n",
    "# movies = pd.concat([data['revenue'], data['director'].str.split('|')], axis=1).explode('director')\n",
    "# answers['13'] = movies.groupby('director', sort=False)['revenue'].sum().sort_values(ascending=False).index[0]"
   ]
  },
  {
   "cell_type": "markdown",
   "metadata": {
    "colab_type": "text",
    "id": "PsYC9FgRVp_a"
   },
   "source": [
    "# 14. Какой режисер снял больше всего фильмов в стиле Action?"
   ]
  },
  {
   "cell_type": "code",
   "execution_count": null,
   "metadata": {
    "colab": {},
    "colab_type": "code",
    "id": "wd2M-wHeVp_b"
   },
   "outputs": [],
   "source": [
    "answers['14'] = data[data['genres'].str.contains('action', case=False)]['director'].str.split('|').explode().value_counts().index[0]"
   ]
  },
  {
   "cell_type": "markdown",
   "metadata": {
    "colab_type": "text",
    "id": "PQ0KciD7Vp_f"
   },
   "source": [
    "# 15. Фильмы с каким актером принесли самые высокие кассовые сборы в 2012 году? "
   ]
  },
  {
   "cell_type": "code",
   "execution_count": null,
   "metadata": {
    "colab": {},
    "colab_type": "code",
    "id": "aga62oeKVp_g"
   },
   "outputs": [],
   "source": [
    "movies = data[data['release_year'] == 2012]\n",
    "movies = pd.concat([movies['revenue'], movies['cast'].str.split('|')], axis=1).explode('cast')\n",
    "answers['15'] = movies.groupby('cast', sort=False)['revenue'].sum().sort_values(ascending=False).index[0]"
   ]
  },
  {
   "cell_type": "markdown",
   "metadata": {
    "colab_type": "text",
    "id": "mWHyyL7QVp_j"
   },
   "source": [
    "# 16. Какой актер снялся в большем количестве высокобюджетных фильмов?"
   ]
  },
  {
   "cell_type": "code",
   "execution_count": null,
   "metadata": {
    "colab": {},
    "colab_type": "code",
    "id": "qQtmHKTFVp_k"
   },
   "outputs": [],
   "source": [
    "movies = data[data['budget'] > data['budget'].mean()]\n",
    "answers['16'] = movies['cast'].str.split('|').explode().value_counts().index[0]"
   ]
  },
  {
   "cell_type": "markdown",
   "metadata": {
    "colab_type": "text",
    "id": "NIh6AaW5Vp_n"
   },
   "source": [
    "# 17. В фильмах какого жанра больше всего снимался Nicolas Cage? "
   ]
  },
  {
   "cell_type": "code",
   "execution_count": null,
   "metadata": {
    "colab": {},
    "colab_type": "code",
    "id": "H74SJDIBVp_n"
   },
   "outputs": [],
   "source": [
    "movies = pd.concat([data['release_year'], data['genres'].str.split('|'), data['cast'].str.split('|')], axis=1).explode('genres').explode('cast')\n",
    "movies = movies.groupby(['cast', 'genres'], sort=True)\n",
    "answers['17'] = movies.count().loc['Nicolas Cage']['release_year'].sort_values(ascending=False).index[0]"
   ]
  },
  {
   "cell_type": "code",
   "execution_count": null,
   "metadata": {},
   "outputs": [],
   "source": [
    "# movies = pd.concat([data['release_year'], data['genres'].str.split('|'), data['cast'].str.split('|')], axis=1).explode('genres').explode('cast')\n",
    "# movies_pivot = movies.pivot_table(index='cast', columns='genres', values='release_year', aggfunc='count')\n",
    "# answers['17'] = movies_pivot.loc['Nicolas Cage'].sort_values(ascending=False).index[0]"
   ]
  },
  {
   "cell_type": "markdown",
   "metadata": {
    "colab_type": "text",
    "id": "RqOmPRfWVp_q"
   },
   "source": [
    "# 18. Самый убыточный фильм от Paramount Pictures"
   ]
  },
  {
   "cell_type": "code",
   "execution_count": null,
   "metadata": {
    "colab": {},
    "colab_type": "code",
    "id": "9E_B0Y96Vp_r"
   },
   "outputs": [],
   "source": [
    "movies = data[data['production_companies'].str.contains('Paramount Pictures', case=False)]\n",
    "answers['18'] = movies[movies['profit'] == movies['profit'].min()]['title'].str.cat(sep='\\n')"
   ]
  },
  {
   "cell_type": "markdown",
   "metadata": {
    "colab_type": "text",
    "id": "vS8Ur6ddVp_u"
   },
   "source": [
    "# 19. Какой год стал самым успешным по суммарным кассовым сборам?"
   ]
  },
  {
   "cell_type": "code",
   "execution_count": null,
   "metadata": {
    "colab": {},
    "colab_type": "code",
    "id": "Dnbt4GdIVp_v"
   },
   "outputs": [],
   "source": [
    "answers['19'] = data.groupby('release_year', sort=False)['revenue'].sum().sort_values(ascending=False).index[0]"
   ]
  },
  {
   "cell_type": "markdown",
   "metadata": {
    "colab_type": "text",
    "id": "JAzJh4QAVp_z"
   },
   "source": [
    "# 20. Какой самый прибыльный год для студии Warner Bros?"
   ]
  },
  {
   "cell_type": "code",
   "execution_count": null,
   "metadata": {
    "colab": {},
    "colab_type": "code",
    "id": "wgVu02DEVp_0"
   },
   "outputs": [],
   "source": [
    "movies = data[data['production_companies'].str.contains('Warner Bros', case=False)]\n",
    "answers['20'] = movies.groupby('release_year', sort=False)['profit'].sum().sort_values(ascending=False).index[0]"
   ]
  },
  {
   "cell_type": "markdown",
   "metadata": {
    "colab_type": "text",
    "id": "8Im1S2HRVp_4"
   },
   "source": [
    "# 21. В каком месяце за все годы суммарно вышло больше всего фильмов?"
   ]
  },
  {
   "cell_type": "code",
   "execution_count": null,
   "metadata": {
    "colab": {},
    "colab_type": "code",
    "id": "lev6TH7gVp_4"
   },
   "outputs": [],
   "source": [
    "month = data.groupby('release_month')['release_date'].count().sort_values(ascending=False).index[0]\n",
    "answers['21'] = month_names[month]"
   ]
  },
  {
   "cell_type": "markdown",
   "metadata": {
    "colab_type": "text",
    "id": "uAJsZ_NeVp_7"
   },
   "source": [
    "# 22. Сколько суммарно вышло фильмов летом? (за июнь, июль, август)"
   ]
  },
  {
   "cell_type": "code",
   "execution_count": null,
   "metadata": {
    "colab": {},
    "colab_type": "code",
    "id": "Aa-hEREoVp_8"
   },
   "outputs": [],
   "source": [
    "answers['22'] = data[data['release_month'].between(6, 8)].shape[0]"
   ]
  },
  {
   "cell_type": "markdown",
   "metadata": {
    "colab_type": "text",
    "id": "G94ppOY1VqAA"
   },
   "source": [
    "# 23. Для какого режиссера зима – самое продуктивное время года? "
   ]
  },
  {
   "cell_type": "code",
   "execution_count": null,
   "metadata": {
    "colab": {},
    "colab_type": "code",
    "id": "RhNTsamuVqAB"
   },
   "outputs": [],
   "source": [
    "answers['23'] = data[(data['release_month'] == 12) | (data['release_month'] <= 2)]['director'].str.split('|').explode().value_counts().index[0]"
   ]
  },
  {
   "cell_type": "markdown",
   "metadata": {
    "colab_type": "text",
    "id": "RBo0JVjVVqAF"
   },
   "source": [
    "# 24. Какая студия дает самые длинные названия своим фильмам по количеству символов?"
   ]
  },
  {
   "cell_type": "code",
   "execution_count": null,
   "metadata": {
    "colab": {},
    "colab_type": "code",
    "id": "QRGS8L0iVqAG"
   },
   "outputs": [],
   "source": [
    "movies = pd.concat([data['title_length'], data['production_companies'].str.split('|')], axis=1).explode('production_companies')\n",
    "movies_grouped = movies.groupby(by='production_companies')['title_length']\n",
    "answers['24'] = (movies_grouped.sum() / movies_grouped.count()).sort_values(ascending=False).index[0]"
   ]
  },
  {
   "cell_type": "markdown",
   "metadata": {
    "colab_type": "text",
    "id": "9G0hbvR7VqAK"
   },
   "source": [
    "# 25. Описание фильмов какой студии в среднем самые длинные по количеству слов?"
   ]
  },
  {
   "cell_type": "code",
   "execution_count": null,
   "metadata": {
    "colab": {},
    "colab_type": "code",
    "id": "Ge2GsLNxVqAK"
   },
   "outputs": [],
   "source": [
    "movies = pd.concat([data['overview_count'], data['production_companies'].str.split('|')], axis=1).explode('production_companies')\n",
    "movies_grouped = movies.groupby(by='production_companies')['overview_count']\n",
    "answers['25'] = (movies_grouped.sum() / movies_grouped.count()).sort_values(ascending=False).index[0]"
   ]
  },
  {
   "cell_type": "markdown",
   "metadata": {
    "colab_type": "text",
    "id": "FJ1AFt90VqAP"
   },
   "source": [
    "# 26. Какие фильмы входят в 1 процент лучших по рейтингу? \n",
    "по vote_average"
   ]
  },
  {
   "cell_type": "code",
   "execution_count": null,
   "metadata": {
    "colab": {},
    "colab_type": "code",
    "id": "8qmJVq4CVqAQ"
   },
   "outputs": [],
   "source": [
    "answers['26'] = data[data['vote_average'] > data['vote_average'].quantile(0.99)]['original_title'].str.cat(sep='\\n')"
   ]
  },
  {
   "cell_type": "markdown",
   "metadata": {
    "colab_type": "text",
    "id": "MdXsUXbCVqAV"
   },
   "source": [
    "# 27. Какие актеры чаще всего снимаются в одном фильме вместе?\n"
   ]
  },
  {
   "cell_type": "code",
   "execution_count": null,
   "metadata": {},
   "outputs": [],
   "source": [
    "actors_count = {}\n",
    "for actors in data['cast'].str.split('|'):\n",
    "    actors_amount = len(actors)\n",
    "    for actor1_index in range(actors_amount):\n",
    "\n",
    "        actor1 = actors[actor1_index]\n",
    "        for actor2_index in range(actor1_index + 1, actors_amount):\n",
    "            actor2 = actors[actor2_index]\n",
    "\n",
    "            if actor2 > actor1:\n",
    "                pair = (actor1, actor2)\n",
    "            else:\n",
    "                pair = (actor2, actor1)\n",
    "\n",
    "            if pair in actors_count:\n",
    "                actors_count[pair] += 1\n",
    "            else:\n",
    "                actors_count[pair] = 1\n",
    "\n",
    "max_count = 0\n",
    "max_pairs = []\n",
    "for pair, count in actors_count.items():\n",
    "    if count >= max_count:\n",
    "        if count > max_count:\n",
    "            max_count = count\n",
    "            max_pairs.clear()\n",
    "        max_pairs.append(' & '.join(pair))\n",
    "answers['27'] = '\\n'.join(max_pairs)"
   ]
  },
  {
   "cell_type": "markdown",
   "metadata": {
    "colab_type": "text",
    "id": "4ymnxEVoVqAW"
   },
   "source": [
    "ВАРИАНТ 2"
   ]
  },
  {
   "cell_type": "code",
   "execution_count": null,
   "metadata": {},
   "outputs": [],
   "source": [
    "#Более медленный и требовательный к памяти вариант через вложенные списки\n",
    "# actors_count = {}\n",
    "# for actors in data['cast'].str.split('|'):\n",
    "#     actors_amount = len(actors)\n",
    "#     for actor_index in range(actors_amount):\n",
    "\n",
    "#         actor = actors[actor_index]\n",
    "#         if actor in actors_count:\n",
    "#             pairs_count = actors_count[actor]\n",
    "#         else:\n",
    "#             pairs_count = {}\n",
    "#             actors_count[actor] = pairs_count\n",
    "\n",
    "#         for pair_index in range(actors_amount):\n",
    "#             if pair_index == actor_index:\n",
    "#                 continue\n",
    "\n",
    "#             pair = actors[pair_index]\n",
    "#             if pair in pairs_count:\n",
    "#                 pairs_count[pair] += 1\n",
    "#             else:\n",
    "#                 pairs_count[pair] = 1\n",
    "\n",
    "# max_count = 0\n",
    "# max_pairs = []\n",
    "# for actor, pairs_count in actors_count.items():\n",
    "#     for pair, count in pairs_count.items():\n",
    "#         if count >= max_count:\n",
    "#             if count > max_count:\n",
    "#                 max_count = count\n",
    "#                 max_pairs.clear()\n",
    "\n",
    "#             if pair < actor:\n",
    "#                 pair = pair + ' & ' + actor\n",
    "#             else:\n",
    "#                 pair = actor + ' & ' + pair\n",
    "\n",
    "#             if pair not in max_pairs:\n",
    "#                 max_pairs.append(pair)\n",
    "\n",
    "# answers['27'] = '\\n'.join(max_pairs)"
   ]
  },
  {
   "cell_type": "markdown",
   "metadata": {
    "colab_type": "text",
    "id": "U0nONFnGVqAX"
   },
   "source": [
    "# Submission"
   ]
  },
  {
   "cell_type": "code",
   "execution_count": null,
   "metadata": {
    "colab": {},
    "colab_type": "code",
    "id": "IfcaRO9-VqAX",
    "outputId": "0f132912-32bb-4196-c98c-abfbc4ad5a5f"
   },
   "outputs": [],
   "source": [
    "# в конце можно посмотреть свои ответы к каждому вопросу\n",
    "answers"
   ]
  },
  {
   "cell_type": "code",
   "execution_count": null,
   "metadata": {
    "colab": {},
    "colab_type": "code",
    "id": "SiRmHPl8VqAd"
   },
   "outputs": [],
   "source": [
    "# и убедиться что ни чего не пропустил)\n",
    "len(answers)"
   ]
  }
 ],
 "metadata": {
  "colab": {
   "name": "Copy of [SF-DST] Movies IMBD v4.1 TEMPLATE.ipynb",
   "provenance": []
  },
  "kernelspec": {
   "display_name": "Python 3",
   "language": "python",
   "name": "python3"
  },
  "language_info": {
   "codemirror_mode": {
    "name": "ipython",
    "version": 3
   },
   "file_extension": ".py",
   "mimetype": "text/x-python",
   "name": "python",
   "nbconvert_exporter": "python",
   "pygments_lexer": "ipython3",
   "version": "3.7.6"
  }
 },
 "nbformat": 4,
 "nbformat_minor": 1
}

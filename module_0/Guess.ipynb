{
 "cells": [
  {
   "cell_type": "code",
   "execution_count": 32,
   "metadata": {},
   "outputs": [
    {
     "name": "stdout",
     "output_type": "stream",
     "text": [
      "В среднем алгоритм угадывает число за 5 попыток.\n"
     ]
    }
   ],
   "source": [
    "import numpy as np\n",
    "\n",
    "\n",
    "def guess_number(minimum, maximum, number):\n",
    "    \"\"\"\n",
    "    Угадываем число из заданного диапазона двоичным поиском.\n",
    "\n",
    "    Parameters\n",
    "    ----------\n",
    "    minimum : int\n",
    "        Указывает минимально возможное число.\n",
    "    maximum : int\n",
    "        Указывает максимально возможное число.\n",
    "    number : int\n",
    "        Число, которое требуется угадать.\n",
    "\n",
    "    Returns\n",
    "    -------\n",
    "    int\n",
    "        Количество попыток, потребовавшихся для угадывания.\n",
    "    \"\"\"\n",
    "\n",
    "    attempt = 1\n",
    "    while True:\n",
    "        #Для повышения скорости работы, заменяем деление арифметическим сдвигом вправо\n",
    "        middle = (minimum + maximum) >> 1\n",
    "        if middle < number:\n",
    "            minimum = middle + 1\n",
    "        elif middle > number:\n",
    "            maximum = middle - 1\n",
    "        else:\n",
    "            return attempt\n",
    "        attempt += 1\n",
    "\n",
    "\n",
    "def play_guess(minimum, maximum, times_to_play, guess_number_function):\n",
    "    \"\"\"\n",
    "    Запускаем алгоритм угадывания указаное количество раз, чтобы узнать его среднюю эффективность.\n",
    "\n",
    "    Parameters\n",
    "    ----------\n",
    "    minimum : int\n",
    "        Указывает минимально возможное число.\n",
    "    maximum : int\n",
    "        Указывает максимально возможное число.\n",
    "    times_to_play : int\n",
    "        Количество раз запуска алгоритма угадывания.\n",
    "    guess_number_function : function\n",
    "        Функция реализующая угадывание числа.\n",
    "\n",
    "    Returns\n",
    "    -------\n",
    "    int\n",
    "        Среднее количество попыток, требующихся алгоритму для угадывания числа.\n",
    "    \"\"\"\n",
    "\n",
    "    attempts = []\n",
    "    #Инициализируем генератор псевдослучайных чисел, чтобы значения были всегда одинаковыми\n",
    "    np.random.seed(1)\n",
    "    numbers = np.random.randint(minimum, maximum + 1, size = times_to_play)\n",
    "    for number in numbers:\n",
    "        attempts.append(guess_number_function(minimum, maximum, number))\n",
    "\n",
    "    average_attempts = int(np.mean(attempts))\n",
    "    return average_attempts\n",
    "\n",
    "\n",
    "minimum = 1\n",
    "maximum = 100\n",
    "times_to_play = 1000\n",
    "average_attempts = play_guess(minimum, maximum, times_to_play, guess_number)\n",
    "print(f'В среднем алгоритм угадывает число за {average_attempts} попыток.')"
   ]
  }
 ],
 "metadata": {
  "kernelspec": {
   "display_name": "Python 3",
   "language": "python",
   "name": "python3"
  },
  "language_info": {
   "codemirror_mode": {
    "name": "ipython",
    "version": 3
   },
   "file_extension": ".py",
   "mimetype": "text/x-python",
   "name": "python",
   "nbconvert_exporter": "python",
   "pygments_lexer": "ipython3",
   "version": "3.7.6"
  }
 },
 "nbformat": 4,
 "nbformat_minor": 4
}
